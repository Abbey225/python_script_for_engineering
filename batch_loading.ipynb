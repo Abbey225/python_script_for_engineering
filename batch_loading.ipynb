{
 "cells": [
  {
   "cell_type": "code",
   "execution_count": 1,
   "id": "895e50d9",
   "metadata": {},
   "outputs": [],
   "source": [
    "import pandas as pd\n",
    "from sqlalchemy import create_engine\n",
    "import urllib\n",
    "import time\n",
    "\n",
    "params_source = urllib.parse.quote_plus(\"DRIVER={SQL Server};SERVER=DESKTOP-TS0EFTA;DATABASE=AdventureWorksDW2017;UID=stone123;PWD=obembe225\")\n",
    "engine_source = create_engine(\"mssql+pyodbc:///?odbc_connect=%s\" % params_source)\n",
    "\n",
    "params_destination = urllib.parse.quote_plus(\"DRIVER={SQL Server};SERVER=DESKTOP-TS0EFTA;DATABASE=cut;UID=stone123;PWD=obembe225\")\n",
    "engine_destination = create_engine(\"mssql+pyodbc:///?odbc_connect=%s\" % params_destination)"
   ]
  },
  {
   "cell_type": "code",
   "execution_count": 2,
   "id": "c3afc604",
   "metadata": {},
   "outputs": [],
   "source": [
    "df =pd.read_csv(r\"C:\\Users\\stone\\Documents\\Doc_Container\\dataset\\organizations-2000000.csv\")\n",
    "\n"
   ]
  },
  {
   "cell_type": "code",
   "execution_count": 3,
   "id": "94f89e5e",
   "metadata": {},
   "outputs": [],
   "source": [
    "chunk_size = 1000\n",
    "chunks = [df[i:i+chunk_size] for i in range(0, df.shape[0], chunk_size)]"
   ]
  },
  {
   "cell_type": "code",
   "execution_count": null,
   "id": "d64964db",
   "metadata": {},
   "outputs": [],
   "source": [
    "%%time\n",
    "for chunk in chunks:\n",
    "    chunk.to_sql('organization', con=engine_destination, if_exists='append', index=False)\n"
   ]
  },
  {
   "cell_type": "code",
   "execution_count": null,
   "id": "d755b2bc",
   "metadata": {},
   "outputs": [],
   "source": []
  },
  {
   "cell_type": "code",
   "execution_count": null,
   "id": "882bfcf2",
   "metadata": {},
   "outputs": [],
   "source": []
  }
 ],
 "metadata": {
  "kernelspec": {
   "display_name": "Python 3 (ipykernel)",
   "language": "python",
   "name": "python3"
  },
  "language_info": {
   "codemirror_mode": {
    "name": "ipython",
    "version": 3
   },
   "file_extension": ".py",
   "mimetype": "text/x-python",
   "name": "python",
   "nbconvert_exporter": "python",
   "pygments_lexer": "ipython3",
   "version": "3.9.12"
  }
 },
 "nbformat": 4,
 "nbformat_minor": 5
}
