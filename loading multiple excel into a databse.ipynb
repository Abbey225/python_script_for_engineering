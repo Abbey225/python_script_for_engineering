{
 "cells": [
  {
   "cell_type": "code",
   "execution_count": null,
   "id": "3b294b86",
   "metadata": {},
   "outputs": [],
   "source": [
    "# loading multiple excel into a databse "
   ]
  },
  {
   "cell_type": "code",
   "execution_count": null,
   "id": "074a6afb",
   "metadata": {},
   "outputs": [],
   "source": [
    "import os\n",
    "import pandas as pd\n",
    "from sqlalchemy import create_engine\n",
    "\n",
    "# set up the database connection\n",
    "server = 'server_name'\n",
    "database = 'database_name'\n",
    "username = 'username'\n",
    "password = 'password'\n",
    "engine = create_engine(f'mssql+pyodbc://{username}:{password}@{server}/{database}?driver=ODBC+Driver+17+for+SQL+Server')\n",
    "\n",
    "# set up the folder path\n",
    "folder_path = 'path/to/excel/folder'\n",
    "\n",
    "# get a list of all Excel files in the folder\n",
    "file_list = [os.path.join(folder_path, f) for f in os.listdir(folder_path) if f.endswith(('.xlsx', '.xls'))]\n",
    "\n",
    "# loop through each Excel file and load it into the database\n",
    "for file_path in file_list:\n",
    "    # load the Excel file into a pandas DataFrame\n",
    "    df = pd.read_excel(file_path)\n",
    "    \n",
    "    # replace any spaces in column names with underscores\n",
    "    df.columns = [c.replace(' ', '_') for c in df.columns]\n",
    "    \n",
    "    # write the DataFrame to the database table\n",
    "    table_name = os.path.splitext(os.path.basename(file_path))[0]\n",
    "    df.to_sql(table_name, engine, if_exists='replace', index=False)\n",
    "    \n",
    "# close the database connection\n",
    "engine.dispose()\n"
   ]
  },
  {
   "cell_type": "code",
   "execution_count": 7,
   "id": "908c68a0",
   "metadata": {},
   "outputs": [],
   "source": []
  }
 ],
 "metadata": {
  "kernelspec": {
   "display_name": "Python 3 (ipykernel)",
   "language": "python",
   "name": "python3"
  },
  "language_info": {
   "codemirror_mode": {
    "name": "ipython",
    "version": 3
   },
   "file_extension": ".py",
   "mimetype": "text/x-python",
   "name": "python",
   "nbconvert_exporter": "python",
   "pygments_lexer": "ipython3",
   "version": "3.9.12"
  }
 },
 "nbformat": 4,
 "nbformat_minor": 5
}
