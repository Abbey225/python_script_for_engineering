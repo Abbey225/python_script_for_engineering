{
 "cells": [
  {
   "cell_type": "code",
   "execution_count": null,
   "id": "f9d61796",
   "metadata": {},
   "outputs": [],
   "source": [
    "import pandas as pd\n",
    "\n",
    "# list of sheet names to read from the Excel file\n",
    "sheet_names = ['North', 'East', 'West']\n",
    "\n",
    "# create an empty list to store the DataFrames\n",
    "dfs = []\n",
    "\n",
    "# read each sheet into a separate DataFrame and append to the list\n",
    "for sheet in sheet_names:\n",
    "    df = pd.read_excel(r\"C:\\Users\\stone\\Downloads\\Region wise Sales Data.xlsx\", sheet_name=sheet)\n",
    "    dfs.append(df)\n",
    "\n",
    "# concatenate the DataFrames in the list into a single DataFrame\n",
    "concatenated_df = pd.concat(dfs, ignore_index=True)\n",
    "\n",
    "# print the concatenated DataFrame\n",
    "print(concatenated_df.head())"
   ]
  },
  {
   "cell_type": "code",
   "execution_count": 37,
   "id": "f480413d",
   "metadata": {},
   "outputs": [
    {
     "data": {
      "text/plain": [
       "'C:\\\\Users\\\\stone\\\\Desktop\\\\Doc_Container\\\\myimportant _files\\\\connection_string\\\\sql-conection-main'"
      ]
     },
     "execution_count": 37,
     "metadata": {},
     "output_type": "execute_result"
    }
   ],
   "source": [
    "pwd"
   ]
  },
  {
   "cell_type": "code",
   "execution_count": null,
   "id": "db500ba4",
   "metadata": {},
   "outputs": [],
   "source": []
  }
 ],
 "metadata": {
  "kernelspec": {
   "display_name": "Python 3 (ipykernel)",
   "language": "python",
   "name": "python3"
  },
  "language_info": {
   "codemirror_mode": {
    "name": "ipython",
    "version": 3
   },
   "file_extension": ".py",
   "mimetype": "text/x-python",
   "name": "python",
   "nbconvert_exporter": "python",
   "pygments_lexer": "ipython3",
   "version": "3.9.12"
  }
 },
 "nbformat": 4,
 "nbformat_minor": 5
}
