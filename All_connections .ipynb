{
 "cells": [
  {
   "cell_type": "code",
   "execution_count": 1,
   "id": "23ac11e9",
   "metadata": {},
   "outputs": [],
   "source": [
    "#connection from db\n",
    "\n",
    "import pandas as pd\n",
    "import pyodbc\n",
    "from sqlalchemy import create_engine\n",
    "\n",
    "\n",
    "engine_source = create_engine('mssql+pyodbc://DESKTOP-TS0EFTA/AdventureWorksDW2019?driver=SQL+Server+Native+Client+11.0',fast_executemany=True)"
   ]
  },
  {
   "cell_type": "code",
   "execution_count": null,
   "id": "95cd3ac9",
   "metadata": {},
   "outputs": [],
   "source": [
    "engine_destination = create_engine('mssql+pyodbc://DESKTOP-TS0EFTA/AdventureWorksLT2019?driver=SQL+Server+Native+Client+11.0',fast_executemany=True)"
   ]
  },
  {
   "cell_type": "code",
   "execution_count": null,
   "id": "8f5f5ac1",
   "metadata": {},
   "outputs": [],
   "source": [
    "#connecting using pyodbc"
   ]
  },
  {
   "cell_type": "code",
   "execution_count": 8,
   "id": "e3d9e02f",
   "metadata": {},
   "outputs": [],
   "source": [
    "# Define the connection string\n",
    "conn_string_source = 'Driver={SQL Server};Server=DESKTOP-TS0EFTA;Database=AdventureWorksDW2019;Trusted_Connection=yes;'\n",
    "\n",
    "# Connect to the database\n",
    "conn_source = pyodbc.connect(conn_string_source)"
   ]
  },
  {
   "cell_type": "code",
   "execution_count": null,
   "id": "da5015d1",
   "metadata": {},
   "outputs": [],
   "source": []
  },
  {
   "cell_type": "code",
   "execution_count": null,
   "id": "47293a6a",
   "metadata": {},
   "outputs": [],
   "source": [
    "# combining sqlalchemy and pyodbc to read data from a database\n",
    "\n",
    "params_source = urllib.parse.quote_plus(\"DRIVER={SQL Server};SERVER=DESKTOP-GDB01HV;DATABASE=AdventureWorksDW2019;UID=sa;PWD=ssis\")\n",
    "source_engine = create_engine(\"mssql+pyodbc:///?odbc_connect=%s\" % params_source)\n",
    "\n",
    "# combining sqlalchemy and pyodbc to read data from a database\n",
    "\n",
    "params_dest = urllib.parse.quote_plus(\"DRIVER={SQL Server};SERVER=DESKTOP-GDB01HV;DATABASE=AdventureWorksDW2019;UID=sa;PWD=ssis\")\n",
    "dest_engine = create_engine(\"mssql+pyodbc:///?odbc_connect=%s\" % params_dest)"
   ]
  },
  {
   "cell_type": "code",
   "execution_count": 22,
   "id": "a43dcb84",
   "metadata": {},
   "outputs": [
    {
     "data": {
      "text/plain": [
       "'C:\\\\Users\\\\stone\\\\airflow'"
      ]
     },
     "execution_count": 22,
     "metadata": {},
     "output_type": "execute_result"
    }
   ],
   "source": [
    "pwd"
   ]
  },
  {
   "cell_type": "code",
   "execution_count": 3,
   "id": "7039a89c",
   "metadata": {},
   "outputs": [],
   "source": [
    "df=pd.read_sql_query('exec [dbo].[customer_info]',engine_source)"
   ]
  }
 ],
 "metadata": {
  "kernelspec": {
   "display_name": "Python 3 (ipykernel)",
   "language": "python",
   "name": "python3"
  },
  "language_info": {
   "codemirror_mode": {
    "name": "ipython",
    "version": 3
   },
   "file_extension": ".py",
   "mimetype": "text/x-python",
   "name": "python",
   "nbconvert_exporter": "python",
   "pygments_lexer": "ipython3",
   "version": "3.9.12"
  }
 },
 "nbformat": 4,
 "nbformat_minor": 5
}
