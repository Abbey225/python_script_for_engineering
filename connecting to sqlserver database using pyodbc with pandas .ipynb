{
 "cells": [
  {
   "cell_type": "markdown",
   "id": "9a6144c9",
   "metadata": {},
   "source": [
    "connecting to sqlserver database using pyodbc with pandas "
   ]
  },
  {
   "cell_type": "code",
   "execution_count": null,
   "id": "c57f7075",
   "metadata": {},
   "outputs": [],
   "source": [
    "import pyodbc\n",
    "import pandas as pd\n",
    "\n",
    "# Define the connection string\n",
    "conn_string = 'Driver={SQL Server};Server=DESKTOP-TS0EFTA;Database=AdventureWorks2019;Trusted_Connection=yes;'\n",
    "\n",
    "# Connect to the database\n",
    "conn = pyodbc.connect(conn_string)\n",
    "\n",
    "# Define the SQL query\n",
    "query = 'SELECT * FROM your_table_name'\n",
    "\n",
    "# Load data into a pandas DataFrame\n",
    "df = pd.read_sql(query, conn)\n",
    "\n",
    "# Close the database connection\n",
    "#conn.close()\n",
    "\n",
    "# Print the first 10 rows of the DataFrame\n",
    "print(df.head(10))\n"
   ]
  }
 ],
 "metadata": {
  "kernelspec": {
   "display_name": "Python 3 (ipykernel)",
   "language": "python",
   "name": "python3"
  },
  "language_info": {
   "codemirror_mode": {
    "name": "ipython",
    "version": 3
   },
   "file_extension": ".py",
   "mimetype": "text/x-python",
   "name": "python",
   "nbconvert_exporter": "python",
   "pygments_lexer": "ipython3",
   "version": "3.9.12"
  }
 },
 "nbformat": 4,
 "nbformat_minor": 5
}
