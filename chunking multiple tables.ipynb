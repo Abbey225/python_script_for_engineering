{
 "cells": [
  {
   "cell_type": "code",
   "execution_count": 1,
   "id": "a2fef49a",
   "metadata": {},
   "outputs": [],
   "source": [
    "import pandas as pd\n",
    "from sqlalchemy import create_engine\n",
    "import urllib\n",
    "import time\n",
    "\n",
    "params_source = urllib.parse.quote_plus(\"DRIVER={SQL Server};SERVER=DESKTOP-TS0EFTA;DATABASE=AdventureWorksDW2017;UID=stone123;PWD=obembe225\")\n",
    "engine_source = create_engine(\"mssql+pyodbc:///?odbc_connect=%s\" % params_source)\n",
    "\n",
    "params_destination = urllib.parse.quote_plus(\"DRIVER={SQL Server};SERVER=DESKTOP-TS0EFTA;DATABASE=batch;UID=stone123;PWD=obembe225\")\n",
    "engine_destination = create_engine(\"mssql+pyodbc:///?odbc_connect=%s\" % params_destination)"
   ]
  },
  {
   "cell_type": "code",
   "execution_count": 2,
   "id": "d52934b9",
   "metadata": {},
   "outputs": [],
   "source": [
    "# Define table names and chunk size\n",
    "table_names = ['DatabaseLog', 'DimAccount', 'DimCurrency', 'DimCustomer']"
   ]
  },
  {
   "cell_type": "code",
   "execution_count": null,
   "id": "b7c3be40",
   "metadata": {},
   "outputs": [
    {
     "name": "stdout",
     "output_type": "stream",
     "text": [
      "Ingesting data from DatabaseLog into the target database...\n",
      "Ingested 96 rows into DatabaseLog.\n",
      "Ingesting data from DimAccount into the target database...\n",
      "Ingested 99 rows into DimAccount.\n",
      "Ingesting data from DimCurrency into the target database...\n",
      "Ingested 105 rows into DimCurrency.\n",
      "Ingesting data from DimCustomer into the target database...\n"
     ]
    }
   ],
   "source": [
    "for tables in table_names:\n",
    "    print(f\"Ingesting data from {tables} into the target database...\")\n",
    "    sql=f'select * from {tables}'\n",
    "    df=pd.read_sql(sql,engine_source,chunksize=5000)\n",
    "    for a in df:\n",
    "        a.to_sql(tables,con=engine_destination, if_exists='append',index=False)\n",
    "        print(f\"Ingested {len(a)} rows into {tables}.\")\n",
    "        \n",
    "        # Sleep for a short while to avoid overloading the database\n",
    "        time.sleep(0.1)\n",
    "\n",
    "print(\"Ingestion complete!\")\n"
   ]
  },
  {
   "cell_type": "code",
   "execution_count": null,
   "id": "02479773",
   "metadata": {},
   "outputs": [],
   "source": []
  }
 ],
 "metadata": {
  "kernelspec": {
   "display_name": "Python 3 (ipykernel)",
   "language": "python",
   "name": "python3"
  },
  "language_info": {
   "codemirror_mode": {
    "name": "ipython",
    "version": 3
   },
   "file_extension": ".py",
   "mimetype": "text/x-python",
   "name": "python",
   "nbconvert_exporter": "python",
   "pygments_lexer": "ipython3",
   "version": "3.9.12"
  }
 },
 "nbformat": 4,
 "nbformat_minor": 5
}
