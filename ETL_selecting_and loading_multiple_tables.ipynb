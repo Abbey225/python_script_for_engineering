{
 "cells": [
  {
   "cell_type": "code",
   "execution_count": 4,
   "id": "ffbc3343",
   "metadata": {},
   "outputs": [],
   "source": [
    "#connection from db\n",
    "\n",
    "import pandas as pd\n",
    "import pyodbc\n",
    "from sqlalchemy import create_engine\n",
    "\n",
    "\n",
    "engine_source = create_engine('mssql+pyodbc://DESKTOP-TS0EFTA/AdventureWorks2019?driver=SQL+Server+Native+Client+11.0',fast_executemany=True)"
   ]
  },
  {
   "cell_type": "code",
   "execution_count": 5,
   "id": "f38ac6d9",
   "metadata": {},
   "outputs": [],
   "source": [
    "engine_dest= create_engine('mssql+pyodbc://DESKTOP-TS0EFTA/abc?driver=SQL+Server+Native+Client+11.0',fast_executemany=True)"
   ]
  },
  {
   "cell_type": "code",
   "execution_count": 9,
   "id": "0ca449a3",
   "metadata": {},
   "outputs": [],
   "source": [
    "table_names =['[Person].[BusinessEntityContact]','[Person].[Password]','[Person].[PersonPhone]']"
   ]
  },
  {
   "cell_type": "code",
   "execution_count": 10,
   "id": "87b5970d",
   "metadata": {},
   "outputs": [],
   "source": [
    "for table_name in table_names:\n",
    "    sql=f'select * from {table_name}'\n",
    "    df=pd.read_sql(sql,con=engine_source)\n",
    "    df.to_sql(f'{table_name}',con=engine_dest,if_exists='append',index=False)"
   ]
  },
  {
   "cell_type": "code",
   "execution_count": null,
   "id": "77bace04",
   "metadata": {},
   "outputs": [],
   "source": []
  },
  {
   "cell_type": "code",
   "execution_count": null,
   "id": "f8251bb6",
   "metadata": {},
   "outputs": [],
   "source": []
  },
  {
   "cell_type": "code",
   "execution_count": null,
   "id": "a5c3dcb1",
   "metadata": {},
   "outputs": [],
   "source": []
  },
  {
   "cell_type": "code",
   "execution_count": null,
   "id": "3d7e875e",
   "metadata": {},
   "outputs": [],
   "source": []
  }
 ],
 "metadata": {
  "kernelspec": {
   "display_name": "Python 3 (ipykernel)",
   "language": "python",
   "name": "python3"
  },
  "language_info": {
   "codemirror_mode": {
    "name": "ipython",
    "version": 3
   },
   "file_extension": ".py",
   "mimetype": "text/x-python",
   "name": "python",
   "nbconvert_exporter": "python",
   "pygments_lexer": "ipython3",
   "version": "3.9.12"
  }
 },
 "nbformat": 4,
 "nbformat_minor": 5
}
