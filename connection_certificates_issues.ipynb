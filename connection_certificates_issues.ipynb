{
 "cells": [
  {
   "cell_type": "code",
   "execution_count": 11,
   "id": "3b0c4208",
   "metadata": {},
   "outputs": [
    {
     "name": "stdout",
     "output_type": "stream",
     "text": [
      "     CurrencyKey CurrencyAlternateKey     CurrencyName\n",
      "0              1                  AFA          Afghani\n",
      "1              2                  DZD   Algerian Dinar\n",
      "2              3                  ARS   Argentine Peso\n",
      "3              4                  AMD    Armenian Dram\n",
      "4              5                  AWG   Aruban Guilder\n",
      "..           ...                  ...              ...\n",
      "100          101                  KRW              Won\n",
      "101          102                  JPY              Yen\n",
      "102          103                  CNY    Yuan Renminbi\n",
      "103          104                  ZWD  Zimbabwe Dollar\n",
      "104          105                  PLN            Zloty\n",
      "\n",
      "[105 rows x 3 columns]\n"
     ]
    },
    {
     "name": "stderr",
     "output_type": "stream",
     "text": [
      "C:\\Users\\23481\\AppData\\Local\\Temp\\ipykernel_26880\\2712162166.py:22: UserWarning: pandas only supports SQLAlchemy connectable (engine/connection) or database string URI or sqlite3 DBAPI2 connection. Other DBAPI2 objects are not tested. Please consider using SQLAlchemy.\n",
      "  df_chunks = pd.read_sql(sql, con=conn_source, chunksize=chunksize)\n"
     ]
    }
   ],
   "source": [
    "import pandas as pd\n",
    "import pyodbc\n",
    "\n",
    "\n",
    "conn_string_source = (\n",
    "    'Driver={ODBC Driver 18 for SQL Server};'\n",
    "    'Server=stone\\\\SQLEXPRESS;'\n",
    "    'Database=AdventureWorksDW2022;'\n",
    "    'Trusted_Connection=yes;'\n",
    "    'Encrypt=yes;'  \n",
    "    'TrustServerCertificate=yes;'  \n",
    ")\n",
    "\n",
    "\n",
    "conn_source = pyodbc.connect(conn_string_source)\n",
    "\n",
    "\n",
    "sql = 'SELECT * FROM [AdventureWorksDW2022].[dbo].[DimCurrency]'\n",
    "\n",
    "\n",
    "chunksize = 100\n",
    "df_chunks = pd.read_sql(sql, con=conn_source, chunksize=chunksize)\n",
    "\n",
    "\n",
    "df = pd.concat(df_chunks, ignore_index=True)\n"
   ]
  },
  {
   "cell_type": "code",
   "execution_count": 13,
   "id": "5aaf4d6b",
   "metadata": {},
   "outputs": [
    {
     "data": {
      "text/html": [
       "<div>\n",
       "<style scoped>\n",
       "    .dataframe tbody tr th:only-of-type {\n",
       "        vertical-align: middle;\n",
       "    }\n",
       "\n",
       "    .dataframe tbody tr th {\n",
       "        vertical-align: top;\n",
       "    }\n",
       "\n",
       "    .dataframe thead th {\n",
       "        text-align: right;\n",
       "    }\n",
       "</style>\n",
       "<table border=\"1\" class=\"dataframe\">\n",
       "  <thead>\n",
       "    <tr style=\"text-align: right;\">\n",
       "      <th></th>\n",
       "      <th>CurrencyKey</th>\n",
       "      <th>CurrencyAlternateKey</th>\n",
       "      <th>CurrencyName</th>\n",
       "    </tr>\n",
       "  </thead>\n",
       "  <tbody>\n",
       "    <tr>\n",
       "      <th>0</th>\n",
       "      <td>1</td>\n",
       "      <td>AFA</td>\n",
       "      <td>Afghani</td>\n",
       "    </tr>\n",
       "    <tr>\n",
       "      <th>1</th>\n",
       "      <td>2</td>\n",
       "      <td>DZD</td>\n",
       "      <td>Algerian Dinar</td>\n",
       "    </tr>\n",
       "    <tr>\n",
       "      <th>2</th>\n",
       "      <td>3</td>\n",
       "      <td>ARS</td>\n",
       "      <td>Argentine Peso</td>\n",
       "    </tr>\n",
       "    <tr>\n",
       "      <th>3</th>\n",
       "      <td>4</td>\n",
       "      <td>AMD</td>\n",
       "      <td>Armenian Dram</td>\n",
       "    </tr>\n",
       "    <tr>\n",
       "      <th>4</th>\n",
       "      <td>5</td>\n",
       "      <td>AWG</td>\n",
       "      <td>Aruban Guilder</td>\n",
       "    </tr>\n",
       "  </tbody>\n",
       "</table>\n",
       "</div>"
      ],
      "text/plain": [
       "   CurrencyKey CurrencyAlternateKey    CurrencyName\n",
       "0            1                  AFA         Afghani\n",
       "1            2                  DZD  Algerian Dinar\n",
       "2            3                  ARS  Argentine Peso\n",
       "3            4                  AMD   Armenian Dram\n",
       "4            5                  AWG  Aruban Guilder"
      ]
     },
     "execution_count": 13,
     "metadata": {},
     "output_type": "execute_result"
    }
   ],
   "source": [
    "df.head()"
   ]
  },
  {
   "cell_type": "code",
   "execution_count": 14,
   "id": "4682a9a0",
   "metadata": {},
   "outputs": [
    {
     "data": {
      "text/plain": [
       "'C:\\\\Users\\\\23481\\\\alfresco'"
      ]
     },
     "execution_count": 14,
     "metadata": {},
     "output_type": "execute_result"
    }
   ],
   "source": [
    "pwd\n"
   ]
  },
  {
   "cell_type": "code",
   "execution_count": 15,
   "id": "0247cf75",
   "metadata": {},
   "outputs": [],
   "source": [
    "df.to_csv('sqldata.csv',index=False)"
   ]
  },
  {
   "cell_type": "code",
   "execution_count": null,
   "id": "605c92a8",
   "metadata": {},
   "outputs": [],
   "source": []
  }
 ],
 "metadata": {
  "kernelspec": {
   "display_name": "Python 3 (ipykernel)",
   "language": "python",
   "name": "python3"
  },
  "language_info": {
   "codemirror_mode": {
    "name": "ipython",
    "version": 3
   },
   "file_extension": ".py",
   "mimetype": "text/x-python",
   "name": "python",
   "nbconvert_exporter": "python",
   "pygments_lexer": "ipython3",
   "version": "3.11.4"
  }
 },
 "nbformat": 4,
 "nbformat_minor": 5
}
